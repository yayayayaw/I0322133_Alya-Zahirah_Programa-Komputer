{
 "cells": [
  {
   "cell_type": "code",
   "execution_count": 25,
   "metadata": {},
   "outputs": [
    {
     "data": {
      "text/plain": [
       "[[1, 2], [1, 2]]"
      ]
     },
     "execution_count": 25,
     "metadata": {},
     "output_type": "execute_result"
    }
   ],
   "source": [
    "#Buatlah sebuah fungsi untuk membuat matrix berdasarkan input dari user :\n",
    "\n",
    "def create_matrix(baris,kolom):\n",
    "    matrix = []\n",
    "    for i in range(baris):\n",
    "        row = []\n",
    "        for j in range(kolom):\n",
    "            elemen = int(input(f'Masukkan elemen matriks [{i}][{j}]: '))\n",
    "            row.append(elemen)\n",
    "        matrix.append(row)\n",
    "    return matrix\n",
    "\n",
    "\n",
    "baris = int(input('Masukkan Jumlah Baris:\\t'))\n",
    "kolom = int(input('Masukkan Jumlah Kolom:\\t'))\n",
    "\n",
    "create_matrix(baris,kolom)"
   ]
  },
  {
   "cell_type": "code",
   "execution_count": 40,
   "metadata": {},
   "outputs": [
    {
     "name": "stdout",
     "output_type": "stream",
     "text": [
      "Matriks Invers:\n",
      "[[ 2. -1.]\n",
      " [-5.  3.]]\n"
     ]
    }
   ],
   "source": [
    "#Buatlah sebuah fungsi untuk mencari invers matrix berdasarkan input matrix dari user\n",
    "\n",
    "import numpy as np\n",
    "\n",
    "def create_matrix(baris, kolom):\n",
    "    matrix = []\n",
    "    for i in range(baris):\n",
    "        row = []\n",
    "        for j in range(kolom):\n",
    "            elemen = float(input(f'Masukkan elemen baris {i+1}, kolom {j+1}: '))\n",
    "            row.append(elemen)\n",
    "        matrix.append(row)\n",
    "    return matrix\n",
    "\n",
    "def invers():\n",
    "    baris = int(input('Masukkan Jumlah Baris: '))\n",
    "    kolom = int(input('Masukkan Jumlah Kolom: '))\n",
    "\n",
    "    matrix = create_matrix(baris, kolom)\n",
    "    try:\n",
    "        inverse_matrix = np.linalg.inv(matrix)\n",
    "        print('Matriks Invers:')\n",
    "        print(inverse_matrix)\n",
    "    except np.linalg.LinAlgError:\n",
    "        print('Matriks tidak dapat diinvers karena determinannya nol.')\n",
    "\n",
    "invers()"
   ]
  },
  {
   "cell_type": "code",
   "execution_count": null,
   "metadata": {},
   "outputs": [],
   "source": [
    "#Buatlah Fungsi untuk melakukan pembagian matrix antar matrix berdasarkan input user menggunakan nested loop\n",
    "\n",
    "import numpy as np\n",
    "\n",
    "def create_matrix(baris, kolom):\n",
    "    matrix = []\n",
    "    for i in range(baris):\n",
    "        row = []\n",
    "        for j in range(kolom):\n",
    "            elemen = float(input(f'Masukkan elemen baris {i+1}, kolom {j+1}: '))\n",
    "            row.append(elemen)\n",
    "        matrix.append(row)\n",
    "    return matrix\n",
    "\n",
    "def multiply_matrices(matrix1, matrix2):\n",
    "    result = np.dot(matrix1, np.linalg.inv(matrix2))\n",
    "    return result\n",
    "\n",
    "def print_matrix(matrix, label):\n",
    "    print(f'{label}:')\n",
    "    for row in matrix:\n",
    "        print(row)\n",
    "\n",
    "baris1 = int(input('Masukkan Jumlah Baris Matrix 1: '))\n",
    "kolom1 = int(input('Masukkan Jumlah Kolom Matrix 1: '))\n",
    "\n",
    "matrix1 = create_matrix(baris1, kolom1)\n",
    "\n",
    "baris2 = int(input('Masukkan Jumlah Baris Matrix 2: '))\n",
    "kolom2 = int(input('Masukkan Jumlah Kolom Matrix 2: '))\n",
    "\n",
    "matrix2 = create_matrix(baris2, kolom2)\n",
    "\n",
    "result = multiply_matrices(matrix1, matrix2)\n",
    "\n",
    "print_matrix(matrix1, 'Matriks 1')\n",
    "print_matrix(matrix2, 'Matriks 2')\n",
    "print_matrix(result, 'Hasil Perkalian Matriks')"
   ]
  }
 ],
 "metadata": {
  "kernelspec": {
   "display_name": "Python 3",
   "language": "python",
   "name": "python3"
  },
  "language_info": {
   "codemirror_mode": {
    "name": "ipython",
    "version": 3
   },
   "file_extension": ".py",
   "mimetype": "text/x-python",
   "name": "python",
   "nbconvert_exporter": "python",
   "pygments_lexer": "ipython3",
   "version": "3.11.2"
  },
  "orig_nbformat": 4
 },
 "nbformat": 4,
 "nbformat_minor": 2
}
