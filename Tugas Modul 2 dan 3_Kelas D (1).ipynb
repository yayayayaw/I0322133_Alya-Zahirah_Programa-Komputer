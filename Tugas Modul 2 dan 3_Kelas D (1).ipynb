{
 "cells": [
  {
   "cell_type": "code",
   "execution_count": 12,
   "metadata": {},
   "outputs": [
    {
     "name": "stdout",
     "output_type": "stream",
     "text": [
      "Alya Zahirah\n",
      "I0322133\n",
      "Kelas D\n"
     ]
    }
   ],
   "source": [
    "print(input(\"Nama: \"))\n",
    "print(input(\"NIM: \"))\n",
    "print(input(\"Kelas: \"))"
   ]
  },
  {
   "attachments": {},
   "cell_type": "markdown",
   "metadata": {},
   "source": [
    "## 1."
   ]
  },
  {
   "attachments": {},
   "cell_type": "markdown",
   "metadata": {},
   "source": [
    "diketahui dimensi sebuah aquarium tanpa penutup atas sebagai berikut:\n",
    "\n",
    "```python\n",
    "p = 11\n",
    "l = 1.99\n",
    "t = 25.87\n",
    "```\n",
    "buatkan program sederhana untuk menghitung diagonal tiap sisi dan luas permukaan aquarium tersebut tanpa menggunakan module math."
   ]
  },
  {
   "cell_type": "code",
   "execution_count": 11,
   "metadata": {},
   "outputs": [
    {
     "name": "stdout",
     "output_type": "stream",
     "text": [
      "Balok dengan: \n",
      "Panjang: 11 \n",
      "Lebar: 1.99 \n",
      "Tinggi: 25.87\n",
      "\n",
      "Memiliki diagonal:\n",
      "Sisi pertama: 11.17855536283647 \n",
      "Sisi kedua: 28.11150831954771 \n",
      "Sisi ketiga: 25.946425572706545\n",
      "\n",
      "Dengan luas permukaan: 715.8825999999999\n"
     ]
    }
   ],
   "source": [
    "panjang = 11\n",
    "lebar = 1.99\n",
    "tinggi = 25.87\n",
    "\n",
    "# diagonal p-l\n",
    "diagonal_1 = (panjang**2+lebar**2)**0.5\n",
    "# diagonal p-t\n",
    "diagonal_2 = (panjang**2+tinggi**2)**0.5\n",
    "# diagonal l-t\n",
    "diagonal_3 = (lebar**2+tinggi**2)**0.5\n",
    "\n",
    "# luas permukaan\n",
    "lp = 2*(panjang*lebar+panjang*tinggi+lebar*tinggi)\n",
    "\n",
    "print (\"Balok dengan: \\nPanjang:\",panjang, \"\\nLebar:\",lebar,\"\\nTinggi:\",tinggi)\n",
    "print (\"\\nMemiliki diagonal:\\nSisi pertama:\",diagonal_1,\"\\nSisi kedua:\",diagonal_2,\"\\nSisi ketiga:\", diagonal_3)\n",
    "print (\"\\nDengan luas permukaan:\",lp)"
   ]
  },
  {
   "attachments": {},
   "cell_type": "markdown",
   "metadata": {},
   "source": [
    "## 2."
   ]
  },
  {
   "attachments": {},
   "cell_type": "markdown",
   "metadata": {},
   "source": [
    "diberikan data nilai mahasiswa sebagai berikut:"
   ]
  },
  {
   "cell_type": "code",
   "execution_count": 1,
   "metadata": {},
   "outputs": [],
   "source": [
    "nilai = {\n",
    "    'Frank': 80,\n",
    "    'Abagnale': 75,\n",
    "    'Cobb': 90,\n",
    "    'Andy Dufresne': 85,\n",
    "    'Ariadne': 70\n",
    "}"
   ]
  },
  {
   "cell_type": "code",
   "execution_count": 32,
   "metadata": {},
   "outputs": [
    {
     "name": "stdout",
     "output_type": "stream",
     "text": [
      "Nilai rata-rata adalah 170.0 \n",
      "Nilai tertinggi adalah 90 milik Cobb\n",
      "Nilai terendah adalah 70 milik Ariadne\n"
     ]
    }
   ],
   "source": [
    "Frank = 80\n",
    "Abagnale = 75\n",
    "Cobb = 90\n",
    "Andy_Dufresne = 85\n",
    "Ariadne= 70\n",
    "\n",
    "kelas = [Frank, Abagnale, Cobb, Andy_Dufresne, Ariadne]\n",
    "\n",
    "#nilai rata2\n",
    "rata = sum(kelas)/len(kelas)+max(kelas)\n",
    "\n",
    "print (\"Nilai rata-rata adalah\", rata, \"\\nNilai tertinggi adalah\", max(kelas), \"milik Cobb\\nNilai terendah adalah\",min(kelas),\"milik Ariadne\")\n"
   ]
  },
  {
   "attachments": {},
   "cell_type": "markdown",
   "metadata": {},
   "source": [
    "buatlah program sederhana untuk menghitung nilai rata-rata semua mahasiswa dan mencari siapa yang mendapatkan nilai tertinggi dan nilai terendah. \n",
    "> *note: tidak perlu menggunakan loops untuk membuat program nya*"
   ]
  },
  {
   "attachments": {},
   "cell_type": "markdown",
   "metadata": {},
   "source": [
    "## 3. "
   ]
  },
  {
   "attachments": {},
   "cell_type": "markdown",
   "metadata": {},
   "source": [
    "diberikan list aslab sebagai berikut:\n",
    "```python\n",
    "list_aslab = [\n",
    "    {\"nama\": \"Berlian Safri Prakoso\", \"nim\": \"I0320017\", \"kontak\": \"0858XXXXXXXX\"},\n",
    "    {\"nama\": \"Halidya Siti Hanifah\", \"nim\": \"I0320044\", \"kontak\": \"0878XXXXXXXX\"},\n",
    "    {\"nama\": \"Nurki Putra Mahardika\", \"nim\": \"I0320076\", \"kontak\": \"0877XXXXXXXX\"},\n",
    "    {\"nama\": \"Aji Manarul Aziz\", \"nim\": \"I0320119\", \"kontak\": \"0812XXXXXXXX\"},\n",
    "    {\"nama\": \"Alica Ayu Fitriani\", \"nim\": \"I0320121\", \"kontak\": \"0896XXXXXXXX\"},\n",
    "    {\"nama\": \"Dendy Halim Kusuma\", \"nim\": \"I0320125\", \"kontak\": \"0822XXXXXXXX\"}\n",
    "]\n",
    "```\n",
    "* **A** Tuliskan kode untuk mengakses informasi tentang \"nama\" dari semua aslab mulai dari index 1 sampai 5\n",
    "* **B** Tambahkan informasi berikut pada data aslab:\n",
    "```python\n",
    "    surel = [\"berlian@student.uns.ac.id\",\n",
    "          \"halidya@student.uns.ac.id\",\n",
    "          \"nurki@student.uns.ac.id\",\n",
    "          \"manarul@student.uns.ac.id\",\n",
    "          \"alica@student.uns.ac.id\",\n",
    "          \"dendy@student.uns.ac.id\"]\n",
    "```\n",
    "> *note: kalian hanya boleh menggunakan key-value pair yang disebutkan di dalam teks, tanpa menggunakan informasi tambahan yang diambil pada list yang ada*"
   ]
  },
  {
   "cell_type": "code",
   "execution_count": 33,
   "metadata": {},
   "outputs": [
    {
     "name": "stdout",
     "output_type": "stream",
     "text": [
      "Berlian Safri Prakoso\n",
      "Halidya Siti Hanifah\n",
      "Nurki Putra Mahardika\n",
      "Aji Manarul Aziz\n",
      "Alica Ayu Fitriani\n",
      "Dendy Halim Kusuma\n",
      "('Berlian Safri Prakoso', 'Halidya Siti Hanifah', 'Nurki Putra Mahardika', 'Aji Manarul Aziz', 'Alica Ayu Fitriani', 'Dendy Halim Kusuma')\n",
      "({'nama': 'Berlian Safri Prakoso', 'nim': 'I0320017', 'kontak': '0858XXXXXXXX', 'surel': 'berlian@student.uns.ac.id'}, {'nama': 'Halidya Siti Hanifah', 'nim': 'I0320044', 'kontak': '0878XXXXXXXX', 'surel': 'halidya@student.uns.ac.id'}, {'nama': 'Nurki Putra Mahardika', 'nim': 'I0320076', 'kontak': '0877XXXXXXXX', 'surel': 'nurki@student.uns.ac.id'}, {'nama': 'Aji Manarul Aziz', 'nim': 'I0320119', 'kontak': '0812XXXXXXXX', 'surel': 'manarul@student.uns.ac.id'}, {'nama': 'Alica Ayu Fitriani', 'nim': 'I0320121', 'kontak': '0896XXXXXXXX', 'surel': 'alica@student.uns.ac.id'}, {'nama': 'Dendy Halim Kusuma', 'nim': 'I0320125', 'kontak': '0822XXXXXXXX', 'surel': 'dendy@student.uns.ac.id'})\n"
     ]
    }
   ],
   "source": [
    "\n",
    "aslab1 = {\n",
    "    \"nama\": \"Berlian Safri Prakoso\",\n",
    "    \"nim\": \"I0320017\", \n",
    "    \"kontak\": \"0858XXXXXXXX\"\n",
    "}\n",
    "aslab2 = {\n",
    "    \"nama\": \"Halidya Siti Hanifah\",\n",
    "    \"nim\": \"I0320044\",\n",
    "    \"kontak\": \"0878XXXXXXXX\"\n",
    "    }\n",
    "aslab3 = {\n",
    "    \"nama\": \"Nurki Putra Mahardika\",\n",
    "    \"nim\": \"I0320076\",\n",
    "    \"kontak\": \"0877XXXXXXXX\"\n",
    "    }\n",
    "aslab4 = {\n",
    "    \"nama\": \"Aji Manarul Aziz\",\n",
    "    \"nim\": \"I0320119\",\n",
    "    \"kontak\": \"0812XXXXXXXX\"\n",
    "    }\n",
    "aslab5 = {\n",
    "    \"nama\": \"Alica Ayu Fitriani\",\n",
    "    \"nim\": \"I0320121\",\n",
    "    \"kontak\": \"0896XXXXXXXX\"\n",
    "    }\n",
    "aslab6 = {\n",
    "    \"nama\": \"Dendy Halim Kusuma\",\n",
    "    \"nim\": \"I0320125\",\n",
    "    \"kontak\": \"0822XXXXXXXX\"\n",
    "    }\n",
    "#aduh mbak sya bngung, begini??\n",
    "print(aslab1[\"nama\"])\n",
    "print(aslab2[\"nama\"])\n",
    "print(aslab3[\"nama\"])\n",
    "print(aslab4[\"nama\"])\n",
    "print(aslab5[\"nama\"])\n",
    "print(aslab6[\"nama\"])\n",
    "\n",
    "nama_aslab = (aslab1[\"nama\"], aslab2[\"nama\"],aslab3[\"nama\"],aslab4[\"nama\"],aslab5[\"nama\"],aslab6[\"nama\"])\n",
    "#atau bgini???\n",
    "print(nama_aslab)\n",
    "\n",
    "#ini saya manual ya mbak,, bingung cara cepatnya\n",
    "aslab1.update({\"surel\" : \"berlian@student.uns.ac.id\"})\n",
    "aslab2.update({\"surel\" : \"halidya@student.uns.ac.id\"})\n",
    "aslab3.update({\"surel\" : \"nurki@student.uns.ac.id\"})\n",
    "aslab4.update({\"surel\" : \"manarul@student.uns.ac.id\"})\n",
    "aslab5.update({\"surel\" : \"alica@student.uns.ac.id\"})\n",
    "aslab6.update({\"surel\" : \"dendy@student.uns.ac.id\"})\n",
    "\n",
    "list_aslab = (aslab1, aslab2,aslab3,aslab4,aslab5,aslab6)\n",
    "print(list_aslab)\n"
   ]
  }
 ],
 "metadata": {
  "kernelspec": {
   "display_name": "Python 3",
   "language": "python",
   "name": "python3"
  },
  "language_info": {
   "codemirror_mode": {
    "name": "ipython",
    "version": 3
   },
   "file_extension": ".py",
   "mimetype": "text/x-python",
   "name": "python",
   "nbconvert_exporter": "python",
   "pygments_lexer": "ipython3",
   "version": "3.11.2"
  },
  "orig_nbformat": 4,
  "vscode": {
   "interpreter": {
    "hash": "5addf786bcd861d1ce5006f23111f8cbb206731e5b61b0a5632ba9e0252558a8"
   }
  }
 },
 "nbformat": 4,
 "nbformat_minor": 2
}
