{
 "cells": [
  {
   "cell_type": "code",
   "execution_count": 1,
   "metadata": {},
   "outputs": [
    {
     "name": "stdout",
     "output_type": "stream",
     "text": [
      "Alya Zahirah\n",
      "I0322133\n",
      "D\n"
     ]
    }
   ],
   "source": [
    "print(input(\"Nama: \"))\n",
    "print(input(\"NIM: \"))\n",
    "print(input(\"Kelas: \"))"
   ]
  },
  {
   "attachments": {},
   "cell_type": "markdown",
   "metadata": {},
   "source": [
    "## 1."
   ]
  },
  {
   "attachments": {},
   "cell_type": "markdown",
   "metadata": {},
   "source": [
    "Buatlah program yang menampilkan salam “Selamat Pagi” dari berbagai negara {Inggris, Perancis, Italia, Spanyol, Jepang, Korea} dengan dua input dari user yaitu bahasa dan diikuti nama user.<br>\n",
    "<br>Ex : \n",
    "<br>\"Ohayou, Onii Chan\"\n",
    "> *note: Kerjakan soal ini dengan percabangan*"
   ]
  },
  {
   "cell_type": "code",
   "execution_count": 13,
   "metadata": {},
   "outputs": [
    {
     "name": "stdout",
     "output_type": "stream",
     "text": [
      "joh-eun achim-ieyo asdfghjk\n"
     ]
    }
   ],
   "source": [
    "asdfghj= {\n",
    "\"inggris\":\"good morning\",\n",
    "\"perancis\":\"bonjour\",\n",
    "\"italia\":\"buongiorno\",\n",
    "\"spanyol\":\"buenos dias\",\n",
    "\"jepang\":\"ohayou\",\n",
    "\"korea\":\"joh-eun achim-ieyo\"\n",
    "}\n",
    "\n",
    "bahasa=input(\"bahasa yang dipilih=\")\n",
    "nama= input(\"masukkan nama=\")\n",
    "\n",
    "print(asdfghj[bahasa.lower()],nama)\n",
    "\n"
   ]
  },
  {
   "attachments": {},
   "cell_type": "markdown",
   "metadata": {},
   "source": [
    "## 2."
   ]
  },
  {
   "attachments": {},
   "cell_type": "markdown",
   "metadata": {},
   "source": [
    "Buatlah program perhitungan umur dengan menggunakan input user yaitu tahun lahir dari user.<br>\n",
    "<br>Output yang dihasilkan adalah sebagai berikut:\n",
    "<br>\"Apakah anda berasal dari masa depan?\"\n",
    "<br>\"Anda barusaja lahir\"\n",
    "<br>\"Umur Anda adalah xx tahun\"\n",
    "> *note: Kerjakan soal ini dengan percabangan*"
   ]
  },
  {
   "cell_type": "code",
   "execution_count": 32,
   "metadata": {},
   "outputs": [
    {
     "name": "stdout",
     "output_type": "stream",
     "text": [
      "Anda baru saja lahir\n"
     ]
    }
   ],
   "source": [
    "thun_lhir= float(input(\"tahun lhir km=\"))\n",
    "umur=2023-thun_lhir\n",
    "\n",
    "if thun_lhir < 2023:\n",
    "    print(\"Umur anda adalah\",umur,\"tahun\")\n",
    "\n",
    "elif thun_lhir > 2023:\n",
    "    print(\"Apakah anda berasal dari masa depan?\")\n",
    "\n",
    "else:\n",
    "    print(\"Anda baru saja lahir\")\n",
    "\n"
   ]
  }
 ],
 "metadata": {
  "language_info": {
   "name": "python"
  },
  "orig_nbformat": 4
 },
 "nbformat": 4,
 "nbformat_minor": 2
}
